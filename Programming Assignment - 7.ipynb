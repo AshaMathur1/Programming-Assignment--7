{
 "cells": [
  {
   "cell_type": "code",
   "execution_count": 1,
   "id": "feb69a60",
   "metadata": {},
   "outputs": [
    {
     "name": "stdout",
     "output_type": "stream",
     "text": [
      "21\n"
     ]
    }
   ],
   "source": [
    "#1.\tWrite a Python Program to find sum of array?\n",
    "\n",
    "Arr ={1,2,3,4,5,6}\n",
    "sum = sum(Arr)\n",
    "print(sum)"
   ]
  },
  {
   "cell_type": "code",
   "execution_count": 2,
   "id": "8b71e55a",
   "metadata": {},
   "outputs": [
    {
     "name": "stdout",
     "output_type": "stream",
     "text": [
      "32\n"
     ]
    }
   ],
   "source": [
    "#2.\tWrite a Python Program to find largest element in an array?\n",
    "arr = [2,1,32,21]\n",
    "max=arr[0]\n",
    "L=len(arr)\n",
    "for i in range(1,L):\n",
    "    if arr[i]>max:\n",
    "        max = arr[i]\n",
    "print(max)\n",
    "        "
   ]
  },
  {
   "cell_type": "code",
   "execution_count": 5,
   "id": "3db9f22e",
   "metadata": {},
   "outputs": [],
   "source": [
    "#3.\tWrite a Python Program for array rotation?\n",
    "#d = number of rotations\n",
    "#n= number of terms in array\n",
    "\n",
    "def arr_leftrotate(arr,d,n):\n",
    "    for i in range(d):\n",
    "        rotateone(arr,n)\n",
    "        temp = arr[0]\n",
    "    for j in range(n-1):\n",
    "        arr[j] = arr[j+1]\n",
    "        arr[n-1]=temp\n",
    "            \n",
    "    arr =[1,2,3,4,5]\n",
    "    n = len(arr)\n",
    "    for i in range(o,n):\n",
    "        arr_leftrotate(arr,2,5)\n",
    "        print(arr[i])\n",
    "    "
   ]
  },
  {
   "cell_type": "code",
   "execution_count": 6,
   "id": "8cd1f8d4",
   "metadata": {},
   "outputs": [
    {
     "name": "stdout",
     "output_type": "stream",
     "text": [
      "3456712"
     ]
    }
   ],
   "source": [
    "#4.\tQWrite a Python Program to Split the array and add the first part to the end?\n",
    "def splitarray(arr,n,k):\n",
    "    for i in range(0,k):\n",
    "        x=arr[0]\n",
    "        for j in range(0,n-1):\n",
    "            arr[j]=arr[j+1]\n",
    "        arr[n-1] = x\n",
    "\n",
    "arr = [1,2,3,4,5,6,7]\n",
    "n =len(arr)\n",
    "k =2 #position from where we need to split the array.\n",
    "splitarray(arr,n,k)\n",
    "\n",
    "for i in range(0,n):\n",
    "    print(arr[i], end ='')"
   ]
  },
  {
   "cell_type": "code",
   "execution_count": 9,
   "id": "303793e5",
   "metadata": {},
   "outputs": [
    {
     "name": "stdout",
     "output_type": "stream",
     "text": [
      "True\n"
     ]
    }
   ],
   "source": [
    "#5.\tWrite a Python Program to check if given array is Monotonic?\n",
    "\n",
    "#Define monotonic function\n",
    "\n",
    "def monotonic(A):\n",
    "    return (all (A[i]<=A[i+1] for i in range(0,n-1)) or all (A[i]>=A[i+1] for i in range(0,n-1)))\n",
    "\n",
    "A=[1,2,3,4,4,4,5,6]\n",
    "print(monotonic(A))"
   ]
  },
  {
   "cell_type": "code",
   "execution_count": null,
   "id": "5010fa61",
   "metadata": {},
   "outputs": [],
   "source": []
  }
 ],
 "metadata": {
  "kernelspec": {
   "display_name": "Python 3 (ipykernel)",
   "language": "python",
   "name": "python3"
  },
  "language_info": {
   "codemirror_mode": {
    "name": "ipython",
    "version": 3
   },
   "file_extension": ".py",
   "mimetype": "text/x-python",
   "name": "python",
   "nbconvert_exporter": "python",
   "pygments_lexer": "ipython3",
   "version": "3.9.7"
  }
 },
 "nbformat": 4,
 "nbformat_minor": 5
}
